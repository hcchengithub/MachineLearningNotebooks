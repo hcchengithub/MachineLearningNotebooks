{
 "cells": [
  {
   "cell_type": "code",
   "execution_count": 15,
   "metadata": {
    "tags": []
   },
   "outputs": [
    {
     "name": "stdout",
     "output_type": "stream",
     "text": [
      "reDef isipython\n",
      "煩不煩？已經執行過了！ \n"
     ]
    }
   ],
   "source": [
    "%run forth.py\n",
    "from icecream import ic"
   ]
  },
  {
   "cell_type": "markdown",
   "metadata": {},
   "source": [
    "Copyright (c) Microsoft Corporation. All rights reserved.\n",
    "\n",
    "Licensed under the MIT License."
   ]
  },
  {
   "cell_type": "markdown",
   "metadata": {
    "tags": []
   },
   "source": [
    "# Configuration\n",
    "\n",
    "_**Setting up your Azure Machine Learning services workspace and configuring your notebook library**_\n",
    "\n",
    "---\n",
    "---\n",
    "\n",
    "## Table of Contents\n",
    "\n",
    "1. [Introduction](#Introduction)\n",
    "    1. What is an Azure Machine Learning workspace\n",
    "1. [Setup](#Setup)\n",
    "    1. Azure subscription\n",
    "    1. Azure ML SDK and other library installation\n",
    "    1. Azure Container Instance registration\n",
    "1. [Configure your Azure ML Workspace](#Workspace-parameters)\n",
    "    1. Workspace parameters\n",
    "    1. Access your workspace\n",
    "    1. Create a new workspace\n",
    "1. [Next steps](#Next_steps)\n",
    "1. [The end](#The-End)\n",
    "\n",
    "---\n",
    "\n",
    "## Introduction\n",
    "\n",
    "This notebook configures your **library of notebooks** to connect to an Azure Machine Learning (ML) workspace.  In this case, a library contains all of the notebooks in the current folder and any nested folders.  You can configure this notebook library to use an existing workspace or create a new workspace. _聽起來就是用整個 folder (directory) 來與 AutoML workspace 連結。確實，像 `ws.write_config()` 就是寫進 working directory 之下的 `.azureml/` 啊！明白了，本程式就是在給整個 repo 做 config啦！_ \n",
    "\n",
    "Typically you will need to run this notebook only once per notebook library as all other notebooks will use connection information that is written here.  If you want to redirect your notebook library to work with a different workspace, then you should re-run this notebook. _與這個 folder 連結的 workspace 還可以抽換_\n",
    "\n",
    "In this notebook you will\n",
    "* Learn about getting an Azure subscription  _咱只能用 subscription 1 公司給的，咱可以改名但只能用這個 id_\n",
    "* Specify your workspace parameters _就是 config.json 裡的內容_\n",
    "* Access or create your workspace _[這個咱之前做過成功了](OneDrive/%E6%96%87%E4%BB%B6/Jupyter%20Notebooks/Azure/What%20is%20the%20Azure%20Machine%20Learning%20SDK%20for%20Python.ipynb)_\n",
    "* Add a default compute cluster for your workspace _哈！[上面那篇 tutor](https://docs.microsoft.com/en-us/python/api/overview/azure/ml/?view=azure-ml-py) 沒教好的這下有救了？_\n",
    "\n",
    "### What is an Azure Machine Learning workspace\n",
    "\n",
    "An Azure ML Workspace is an Azure resource that organizes and coordinates the actions of many other Azure resources to assist in executing and sharing machine learning workflows.  In particular, an Azure ML Workspace coordinates storage, databases, and compute resources providing added functionality for machine learning experimentation, deployment, inference, and the monitoring of deployed models."
   ]
  },
  {
   "cell_type": "markdown",
   "metadata": {},
   "source": [
    "![Impressions](https://PixelServer20190423114238.azurewebsites.net/api/impressions/MachineLearningNotebooks/configuration.png)"
   ]
  },
  {
   "cell_type": "markdown",
   "metadata": {},
   "source": [
    "## Setup\n",
    "\n",
    "This section describes activities required before you can access any Azure ML services functionality."
   ]
  },
  {
   "cell_type": "markdown",
   "metadata": {},
   "source": [
    "### 1. Azure Subscription\n",
    "\n",
    "In order to create an Azure ML Workspace, first you need access to an Azure subscription.  An Azure subscription allows you to manage storage, compute, and other assets in the Azure cloud.  You can [create a new subscription](https://azure.microsoft.com/en-us/free/) or access existing subscription information from the [Azure portal](https://portal.azure.com).  Later in this notebook you will need information such as your subscription ID in order to create and access AML workspaces.\n",
    "\n",
    "### 2. Azure ML SDK and other library installation\n",
    "\n",
    "If you are running in your own environment, follow [SDK installation instructions](https://docs.microsoft.com/azure/machine-learning/service/how-to-configure-environment).  If you are running in Azure Notebooks or another Microsoft managed environment, the SDK is already installed.\n",
    "\n",
    "Also install following libraries to your environment. Many of the example notebooks depend on them\n",
    "\n",
    "```\n",
    "(myenv) $ conda install -y matplotlib tqdm scikit-learn\n",
    "```\n",
    "\n",
    "Once installation is complete, the following cell checks the Azure ML SDK version:"
   ]
  },
  {
   "cell_type": "code",
   "execution_count": 10,
   "metadata": {
    "tags": [
     "install"
    ]
   },
   "outputs": [
    {
     "name": "stdout",
     "output_type": "stream",
     "text": [
      "This notebook was created using version 1.39.0 of the Azure ML SDK\n",
      "You are currently using version 1.39.0 of the Azure ML SDK\n"
     ]
    }
   ],
   "source": [
    "import azureml.core\n",
    "\n",
    "print(\"This notebook was created using version 1.39.0 of the Azure ML SDK\")\n",
    "print(\"You are currently using version\", azureml.core.VERSION, \"of the Azure ML SDK\")"
   ]
  },
  {
   "cell_type": "markdown",
   "metadata": {},
   "source": [
    "If you are using an older version of the SDK then this notebook was created using, you should upgrade your SDK.\n",
    "\n",
    "### 3. Azure Container Instance registration\n",
    "Azure Machine Learning uses of [Azure Container Instance (ACI)](https://azure.microsoft.com/services/container-instances) to deploy dev/test web services. An Azure subscription needs to be registered to use ACI.  If you or the subscription owner have not yet registered ACI on your subscription, you will need to use the [Azure CLI](https://docs.microsoft.com/en-us/cli/azure/install-azure-cli?view=azure-cli-latest) and execute the following commands.  Note that if you ran through the AML [quickstart](https://docs.microsoft.com/en-us/azure/machine-learning/service/quickstart-get-started) you have already registered ACI. \n",
    "\n",
    "```shell\n",
    "# check to see if ACI is already registered\n",
    "(myenv) $ az provider show -n Microsoft.ContainerInstance -o table\n",
    "\n",
    "# if ACI is not registered, run this command.\n",
    "# note you need to be the subscription owner in order to execute this command successfully.\n",
    "(myenv) $ az provider register -n Microsoft.ContainerInstance\n",
    "```\n",
    "\n",
    "---"
   ]
  },
  {
   "cell_type": "markdown",
   "metadata": {},
   "source": [
    "## Configure your Azure ML workspace\n",
    "\n",
    "### Workspace parameters\n",
    "\n",
    "To use an AML Workspace, you will need to import the Azure ML SDK and supply the following information:\n",
    "* Your subscription id\n",
    "* A resource group name\n",
    "* (optional) The region that will host your workspace\n",
    "* A name for your workspace\n",
    "\n",
    "You can get your subscription ID from the [Azure portal](https://portal.azure.com).\n",
    "\n",
    "You will also need access to a [_resource group_](https://docs.microsoft.com/en-us/azure/azure-resource-manager/resource-group-overview#resource-groups), which organizes Azure resources and provides a default region for the resources in a group.  You can see what resource groups to which you have access, or create a new one in the [Azure portal](https://portal.azure.com).  If you don't have a resource group, the create workspace command will create one for you using the name you provide.\n",
    "\n",
    "The region to host your workspace will be used if you are creating a new workspace.  You do not need to specify this if you are using an existing workspace. You can find the list of supported regions [here](https://azure.microsoft.com/en-us/global-infrastructure/services/?products=machine-learning-service).  You should pick a region that is close to your location or that contains your data.\n",
    "\n",
    "The name for your workspace is unique within the subscription and should be descriptive enough to discern among other AML Workspaces.  The subscription may be used only by you, or it may be used by your department or your entire enterprise, so choose a name that makes sense for your situation.\n",
    "\n",
    "The following cell allows you to specify your workspace parameters.  This cell uses the python method `os.getenv` to read values from environment variables which is useful for automation.  If no environment variable exists, the parameters will be set to the specified default values.  \n",
    "\n",
    "If you ran the Azure Machine Learning [quickstart](https://docs.microsoft.com/en-us/azure/machine-learning/service/quickstart-get-started) in Azure Notebooks, you already have a configured workspace!  You can go to your Azure Machine Learning Getting Started library, view *config.json* file, and copy-paste the values for subscription ID, resource group and workspace name below.\n",
    "\n",
    "Replace the default values in the cell below with your workspace parameters"
   ]
  },
  {
   "cell_type": "code",
   "execution_count": 19,
   "metadata": {},
   "outputs": [
    {
     "name": "stdout",
     "output_type": "stream",
     "text": [
      "ws --> Workspace.create(name='my_azure_AutoML_workspace', subscription_id='c27e04e6-ca10-453d-9c80-1931b65eb245', resource_group='my_azure_AutoML_resource_group') (<class 'azureml.core.workspace.Workspace'>)\n"
     ]
    },
    {
     "data": {
      "text/plain": [
       "{'id': '/subscriptions/c27e04e6-ca10-453d-9c80-1931b65eb245/resourceGroups/my_azure_AutoML_resource_group/providers/Microsoft.MachineLearningServices/workspaces/my_azure_AutoML_workspace',\n",
       " 'name': 'my_azure_AutoML_workspace',\n",
       " 'identity': {'principal_id': '89725b6f-6d0c-460b-a648-496f9bf88d83',\n",
       "  'tenant_id': 'de0795e0-d7c0-4eeb-b9bb-bc94d8980d3b',\n",
       "  'type': 'SystemAssigned'},\n",
       " 'location': 'eastus2',\n",
       " 'type': 'Microsoft.MachineLearningServices/workspaces',\n",
       " 'tags': {},\n",
       " 'sku': 'Basic',\n",
       " 'workspaceid': '29322e01-bc17-4346-855a-e4adb074cfed',\n",
       " 'sdkTelemetryAppInsightsKey': 'e1f7b545-6243-4abf-ba76-c5691d2edb62',\n",
       " 'description': '',\n",
       " 'friendlyName': 'my_azure_AutoML_workspace',\n",
       " 'creationTime': '2022-03-04T09:13:00.7230938+00:00',\n",
       " 'keyVault': '/subscriptions/c27e04e6-ca10-453d-9c80-1931b65eb245/resourcegroups/my_azure_automl_resource_group/providers/microsoft.keyvault/vaults/myazureakeyvault5d5075f2',\n",
       " 'applicationInsights': '/subscriptions/c27e04e6-ca10-453d-9c80-1931b65eb245/resourcegroups/my_azure_automl_resource_group/providers/microsoft.insights/components/myazureainsights23d5a57c',\n",
       " 'storageAccount': '/subscriptions/c27e04e6-ca10-453d-9c80-1931b65eb245/resourcegroups/my_azure_automl_resource_group/providers/microsoft.storage/storageaccounts/myazureastoragef87ef6c41',\n",
       " 'hbiWorkspace': False,\n",
       " 'allowPublicAccessWhenBehindVnet': False,\n",
       " 'provisioningState': 'Succeeded',\n",
       " 'discoveryUrl': 'https://eastus2.api.azureml.ms/discovery',\n",
       " 'notebookInfo': {'fqdn': 'ml-myazureautomlwo-eastus2-29322e01-bc17-4346-855a-e4adb074cfed.notebooks.azure.net',\n",
       "  'resource_id': '4858b4099a344f7192c367a6a6d46e5c'}}"
      ]
     },
     "execution_count": 19,
     "metadata": {},
     "output_type": "execute_result"
    }
   ],
   "source": [
    "%%skip False\n",
    "# 咱用 ws.from_config() 抓現有的 workspace \n",
    "\n",
    "from azureml.core import Workspace\n",
    "ws = ws.from_config()\n",
    "%f ws -->\n",
    "ws.get_details()"
   ]
  },
  {
   "cell_type": "code",
   "execution_count": 11,
   "metadata": {},
   "outputs": [],
   "source": [
    "%%skip True \n",
    "# 咱用 ws.from_config() 抓現有的 workspace \n",
    "\n",
    "import os\n",
    "\n",
    "subscription_id = os.getenv(\"SUBSCRIPTION_ID\", default=\"c27e04e6-ca10-453d-9c80-1931b65eb245\")\n",
    "resource_group = os.getenv(\"RESOURCE_GROUP\", default=\"my_azure_AutoML_resource_group\")\n",
    "workspace_name = os.getenv(\"WORKSPACE_NAME\", default=\"my_azure_AutoML_workspace\")\n",
    "workspace_region = os.getenv(\"WORKSPACE_REGION\", default=\"eastus2\")"
   ]
  },
  {
   "cell_type": "markdown",
   "metadata": {},
   "source": [
    "### Access your workspace\n",
    "\n",
    "The following cell uses the Azure ML SDK to attempt to load the workspace specified by your parameters.  If this cell succeeds, your notebook library will be configured to access the workspace from all notebooks using the `Workspace.from_config()` method.  The cell can fail if the specified workspace doesn't exist or you don't have permissions to access it. "
   ]
  },
  {
   "cell_type": "code",
   "execution_count": 12,
   "metadata": {},
   "outputs": [],
   "source": [
    "%%skip True \n",
    "# 咱用 ws.from_config() 抓現有的 workspace \n",
    "\n",
    "from azureml.core import Workspace\n",
    "\n",
    "try:\n",
    "    ws = Workspace(subscription_id = subscription_id, resource_group = resource_group, workspace_name = workspace_name)\n",
    "    # write the details of the workspace to a configuration file to the notebook library\n",
    "    ws.write_config()\n",
    "    print(\"Workspace configuration succeeded. Skip the workspace creation steps below\")\n",
    "except:\n",
    "    print(\"Workspace not accessible. Change your parameters or create a new workspace below\")"
   ]
  },
  {
   "cell_type": "markdown",
   "metadata": {},
   "source": [
    "### Create a new workspace\n",
    "\n",
    "If you don't have an existing workspace and are the owner of the subscription or resource group, you can create a new workspace.  If you don't have a resource group, the create workspace command will create one for you using the name you provide.\n",
    "\n",
    "**Note**: As with other Azure services, there are limits on certain resources (for example AmlCompute quota) associated with the Azure ML service. Please read [this article](https://docs.microsoft.com/en-us/azure/machine-learning/service/how-to-manage-quotas) on the default limits and how to request more quota.\n",
    "\n",
    "This cell will create an Azure ML workspace for you in a subscription provided you have the correct permissions.\n",
    "\n",
    "This will fail if:\n",
    "* You do not have permission to create a workspace in the resource group\n",
    "* You do not have permission to create a resource group if it's non-existing.\n",
    "* You are not a subscription owner or contributor and no Azure ML workspaces have ever been created in this subscription\n",
    "\n",
    "If workspace creation fails, please work with your IT admin to provide you with the appropriate permissions or to provision the required resources.\n",
    "\n",
    "**Note**: A Basic workspace is created by default. If you would like to create an Enterprise workspace, please specify sku = 'enterprise'.\n",
    "Please visit our [pricing page](https://azure.microsoft.com/en-us/pricing/details/machine-learning/) for more details on our Enterprise edition.\n"
   ]
  },
  {
   "cell_type": "code",
   "execution_count": 7,
   "metadata": {
    "tags": [
     "create workspace"
    ]
   },
   "outputs": [],
   "source": [
    "%%skip True \n",
    "# 咱用 ws.from_config() 抓現有的 workspace \n",
    "\n",
    "from azureml.core import Workspace\n",
    "\n",
    "# Create the workspace using the specified parameters\n",
    "ws = Workspace.create(name = workspace_name,\n",
    "                      subscription_id = subscription_id,\n",
    "                      resource_group = resource_group, \n",
    "                      location = workspace_region,\n",
    "                      create_resource_group = True,\n",
    "                      sku = 'basic',\n",
    "                      exist_ok = True)\n",
    "ws.get_details()\n",
    "\n",
    "# write the details of the workspace to a configuration file to the notebook library\n",
    "ws.write_config()"
   ]
  },
  {
   "cell_type": "markdown",
   "metadata": {},
   "source": [
    "### Create compute resources for your training experiments\n",
    "\n",
    "Many of the sample notebooks use Azure ML managed compute (AmlCompute) to train models using a dynamically scalable pool of compute. In this section you will create default compute clusters for use by the other notebooks and any other operations you choose.\n",
    "\n",
    "> Note that if you have an AzureML Data Scientist role, you will not have permission to create compute resources. Talk to your workspace or IT admin to create the compute targets described in this section, if they do not already exist.\n",
    "\n",
    "To create a cluster, you need to specify a compute configuration that specifies the type of machine to be used and the scalability behaviors.  Then you choose a name for the cluster that is unique within the workspace that can be used to address the cluster later.\n",
    "\n",
    "The cluster parameters are:\n",
    "* vm_size - this describes the virtual machine type and size used in the cluster.  All machines in the cluster are the same type.  You can get the list of vm sizes available in your region by using the CLI command\n",
    "\n",
    "```shell\n",
    "az vm list-skus -o tsv\n",
    "```\n",
    "* min_nodes - this sets the minimum size of the cluster.  If you set the minimum to 0 the cluster will shut down all nodes while not in use.  Setting this number to a value higher than 0 will allow for faster start-up times, but you will also be billed when the cluster is not in use.\n",
    "* max_nodes - this sets the maximum size of the cluster.  Setting this to a larger number allows for more concurrency and a greater distributed processing of scale-out jobs.\n",
    "\n",
    "\n",
    "To create a **CPU** cluster now, run the cell below. The autoscale settings mean that the cluster will scale down to 0 nodes when inactive and up to 4 nodes when busy."
   ]
  },
  {
   "cell_type": "code",
   "execution_count": 17,
   "metadata": {},
   "outputs": [
    {
     "name": "stderr",
     "output_type": "stream",
     "text": [
      "ic| 2795266671.py:9 in <module> at 09:25:45.964\n"
     ]
    },
    {
     "name": "stdout",
     "output_type": "stream",
     "text": [
      "Found existing cpu-cluster\n"
     ]
    }
   ],
   "source": [
    "from azureml.core.compute import ComputeTarget, AmlCompute\n",
    "from azureml.core.compute_target import ComputeTargetException\n",
    "\n",
    "# Choose a name for your CPU cluster\n",
    "cpu_cluster_name = \"cpu-cluster\"\n",
    "\n",
    "# Verify that cluster does not exist already\n",
    "try:\n",
    "    ic()\n",
    "    cpu_cluster = ComputeTarget(workspace=ws, name=cpu_cluster_name)\n",
    "    print(\"Found existing cpu-cluster\")\n",
    "except ComputeTargetException:\n",
    "    ic()\n",
    "    print(\"Creating new cpu-cluster\")\n",
    "    \n",
    "    # Specify the configuration for the new cluster\n",
    "    compute_config = AmlCompute.provisioning_configuration(vm_size=\"STANDARD_D2_V2\",\n",
    "                                                           min_nodes=0,\n",
    "                                                           max_nodes=4)\n",
    "\n",
    "    # Create the cluster with the specified name and configuration\n",
    "    cpu_cluster = ComputeTarget.create(ws, cpu_cluster_name, compute_config)\n",
    "    \n",
    "    # Wait for the cluster to complete, show the output log\n",
    "    cpu_cluster.wait_for_completion(show_output=True)"
   ]
  },
  {
   "cell_type": "code",
   "execution_count": 18,
   "metadata": {},
   "outputs": [
    {
     "name": "stdout",
     "output_type": "stream",
     "text": [
      "cpu_cluster --> AmlCompute(workspace=Workspace.create(name='my_azure_AutoML_workspace', subscription_id='c27e04e6-ca10-453d-9c80-1931b65eb245', resource_group='my_azure_AutoML_resource_group'), name=cpu-cluster, id=/subscriptions/c27e04e6-ca10-453d-9c80-1931b65eb245/resourceGroups/my_azure_AutoML_resource_group/providers/Microsoft.MachineLearningServices/workspaces/my_azure_AutoML_workspace/computes/cpu-cluster, type=AmlCompute, provisioning_state=Succeeded, location=eastus2, tags={}) (<class 'azureml.core.compute.amlcompute.AmlCompute'>)\n"
     ]
    }
   ],
   "source": [
    "%f cpu_cluster -->"
   ]
  },
  {
   "cell_type": "markdown",
   "metadata": {},
   "source": [
    "To create a **GPU** cluster, run the cell below. Note that your subscription must have sufficient quota for GPU VMs or the command will fail. To increase quota, see [these instructions](https://docs.microsoft.com/en-us/azure/azure-supportability/resource-manager-core-quotas-request). "
   ]
  },
  {
   "cell_type": "code",
   "execution_count": 16,
   "metadata": {},
   "outputs": [],
   "source": [
    "%%skip True\n",
    "from azureml.core.compute import ComputeTarget, AmlCompute\n",
    "from azureml.core.compute_target import ComputeTargetException\n",
    "\n",
    "# Choose a name for your GPU cluster\n",
    "gpu_cluster_name = \"gpu-cluster\"\n",
    "\n",
    "# Verify that cluster does not exist already\n",
    "try:\n",
    "    ic()\n",
    "    gpu_cluster = ComputeTarget(workspace=ws, name=gpu_cluster_name)\n",
    "    print(\"Found existing gpu cluster\")\n",
    "except ComputeTargetException:\n",
    "    ic()\n",
    "    print(\"Creating new gpu-cluster\")\n",
    "    \n",
    "    # Specify the configuration for the new cluster\n",
    "    compute_config = AmlCompute.provisioning_configuration(vm_size=\"STANDARD_NC6\",\n",
    "                                                           min_nodes=0,\n",
    "                                                           max_nodes=4)\n",
    "    # Create the cluster with the specified name and configuration\n",
    "    gpu_cluster = ComputeTarget.create(ws, gpu_cluster_name, compute_config)\n",
    "\n",
    "    # Wait for the cluster to complete, show the output log\n",
    "    gpu_cluster.wait_for_completion(show_output=True)"
   ]
  },
  {
   "cell_type": "markdown",
   "metadata": {},
   "source": [
    "---\n",
    "\n",
    "## Next steps\n",
    "\n",
    "In this notebook you configured this notebook library to connect easily to an Azure ML workspace.  You can copy this notebook to your own libraries to connect them to you workspace, or use it to bootstrap new workspaces completely.\n",
    "\n",
    "If you came here from another notebook, you can return there and complete that exercise, or you can try out the [Tutorials](./tutorials) or jump into \"how-to\" notebooks and start creating and deploying models.  A good place to start is the [train within notebook](./how-to-use-azureml/training/train-within-notebook) example that walks through a simplified but complete end to end machine learning process."
   ]
  },
  {
   "cell_type": "markdown",
   "metadata": {},
   "source": [
    "# The End"
   ]
  }
 ],
 "metadata": {
  "authors": [
   {
    "name": "ninhu"
   }
  ],
  "kernelspec": {
   "display_name": "Python 3 (ipykernel)",
   "language": "python",
   "name": "python3"
  },
  "language_info": {
   "codemirror_mode": {
    "name": "ipython",
    "version": 3
   },
   "file_extension": ".py",
   "mimetype": "text/x-python",
   "name": "python",
   "nbconvert_exporter": "python",
   "pygments_lexer": "ipython3",
   "version": "3.8.8"
  }
 },
 "nbformat": 4,
 "nbformat_minor": 4
}
