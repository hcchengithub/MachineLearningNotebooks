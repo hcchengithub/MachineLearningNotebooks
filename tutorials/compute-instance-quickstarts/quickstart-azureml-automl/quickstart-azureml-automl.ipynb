{
 "cells": [
  {
   "cell_type": "markdown",
   "metadata": {},
   "source": [
    "![Impressions](https://PixelServer20190423114238.azurewebsites.net/api/impressions/MachineLearningNotebooks/tutorials/quickstart-ci/ClassificationWithAutomatedML.png)"
   ]
  },
  {
   "cell_type": "code",
   "execution_count": 11,
   "metadata": {
    "collapsed": true,
    "jupyter": {
     "outputs_hidden": true
    },
    "tags": []
   },
   "outputs": [
    {
     "name": "stdout",
     "output_type": "stream",
     "text": [
      "p e f o r t h    v1.28\n",
      "source code http://github.com/hcchengithub/peforth\n",
      "Type 'peforth.ok()' to enter forth interpreter, 'exit' to come back.\n",
      "\n",
      "*** Start self-test \n",
      "*** Data stack should be empty ... pass\n",
      "*** Rreturn stack should have less than 2 cells ... pass\n",
      "*** // adds help to the last word ... pass\n",
      "*** TIB lines after \\ should be ignored ... pass\n",
      "*** slice ... pass\n",
      "reDef ---\n",
      "*** case ... endcase ... pass\n",
      "*** modules lists imported modules ... pass\n",
      "*** cd mimic DOS/Linux cd command ... pass\n",
      "*** debugger commands x@ x> >x .sx xdrop xdropall ... pass\n",
      "*** xstack commands x@ x> >x .sx xdrop xdropall ... pass\n",
      "*** /// add comment to the last word ... pass\n",
      "*** immediate makes the LAST an immediate word ... pass\n",
      "*** compyle source code to function ... pass\n",
      "*** </pyV> based on </py> and on compyle ... pass\n",
      "*** interpret-only marks the last word an interpret-only word ... pass\n",
      "*** immediate marks the last word an immediate word ... pass\n",
      "*** compile-only marks last word as a compile-only word ... pass\n",
      "*** literal is a compiling comamnd that can improve run time performance ... pass\n",
      "*** (create) creates a new word ... pass\n",
      "*** ' (tick) gets word object ... pass\n",
      "*** \"drop\" drops the TOS ... pass\n",
      "*** here points to next available address ... pass\n",
      "*** version should return a floating point number ... pass\n",
      "*** (space) puts a 0x20 on TOS ... pass\n",
      "*** BL should return the string '\\s' literally ... pass\n",
      "*** CR should return the string \\n|\\r literally ... pass\n",
      "*** word reads \"string\" from TIB ... pass\n",
      "*** py> eval(pop()) should eval(tos) ... pass\n",
      "*** last should return the last word ... pass\n",
      "*** exit should stop a colon word ... pass\n",
      "*** (forget) forgets the last word ... pass\n",
      "*** begin ... again loop covers many things ... pass\n",
      "*** ! @ >r r> r@ drop dup swap over 0< ... pass\n",
      "*** ' tick and (') should return a word object ... pass\n",
      "*** bool and or not AND OR NOT XOR ... pass\n",
      "*** + * - / 1+ 2+ 1- 2- ... pass\n",
      "*** >> -1 signed right shift n times will be still -1 ... pass\n",
      "*** >> -4 signed right shift becomes -2 ... pass\n",
      "*** << -1 signed left shift 63 times become the smallest int number ... pass\n",
      "*** 0= 0<> 0> 0>= 0< 0<= ... pass\n",
      "*** == compares tos(1) and tos() after booleanized ... pass\n",
      "*** > < >= <= != != <> ... pass\n",
      "*** abs makes negative positive ... pass\n",
      "*** max min within ... pass\n",
      "*** doVar doNext ... pass\n",
      "*** pick 2 from 1 2 3 gets 1 2 3 1 ... pass\n",
      "*** roll 2 from 1 2 3 gets 2 3 1 ... pass\n",
      "*** [compile] compile [ ] ... pass\n",
      "*** alias should create a new word that acts same ... pass\n",
      "*** nip rot -rot 2drop 2dup invert negate within ... pass\n",
      "*** ['] tick next word immediately ... pass\n",
      "*** allot should consume some dictionary cells ... pass\n",
      "*** begin again , begin until ... pass\n",
      "*** aft for then next ahead begin while repeat ... pass\n",
      "*** ?dup dup only when it's True ... pass\n",
      "*** +! variable ... pass\n",
      "*** spaces chars ... pass\n",
      "*** .( ( .\" .' s\" s' s` ... pass\n",
      "*** count ... pass\n",
      "*** value and to work together ... pass\n",
      "*** <comment>...</comment> can be nested now ... pass\n",
      "*** constant value and to ... pass\n",
      "*** int 3.14 is 3, 12.34 is 12 ... pass\n",
      "*** drops n data stack cells ... ... pass\n",
      "*** dropall clean the data stack ... pass\n",
      "*** ASCII char>ASCII ASCII>char ... pass\n",
      "*** .s is probably the most frequently used word ... pass\n",
      "*** see (see) ... pass\n",
      "*** trim indent -indent ... pass\n",
      "*** py:~ py>~ ... pass\n",
      "*** here here! , ? allot ... pass\n",
      "*** create does> ... pass\n",
      "*** words help ... pass\n",
      "*** dict>keys dir type ... pass\n",
      "*** [if] [else] [then] [begin] [again] [until] [for] [next] ... pass\n",
      "*** du dump ... pass\n",
      "*** [r r] ... pass\n",
      "*** End of peforth.f self-test ... pass\n",
      "*** (pyclude) pyclude run ~.py file ... pass\n",
      "*** .members .source ... pass\n",
      "*** sign gets the + or - of the given number to 1 or -1 ... pass\n",
      "*** round-off ... pass\n",
      "*** txt2json ... pass\n",
      "*** dos shell to DOSbox or run DOS command ... pass\n"
     ]
    }
   ],
   "source": [
    "%run ../../../forth.py"
   ]
  },
  {
   "cell_type": "markdown",
   "metadata": {
    "nteract": {
     "transient": {
      "deleting": false
     }
    }
   },
   "source": [
    "# Quickstart: Fraud Classification using Automated ML\n",
    "\n",
    "In this quickstart, you use automated machine learning in Azure Machine Learning service to  train a classification model on an associated fraud credit card dataset. This process accepts training data and configuration settings, and automatically iterates through combinations of different feature normalization/standardization methods, models, and hyperparameter settings to arrive at the best model.\n",
    "\n",
    "You will learn how to:\n",
    "\n",
    "> * Download a dataset and look at the data\n",
    "> * Train a machine learning classification model using autoML \n",
    "> * Explore the results\n"
   ]
  },
  {
   "cell_type": "markdown",
   "metadata": {
    "nteract": {
     "transient": {
      "deleting": false
     }
    }
   },
   "source": [
    "### Connect to your workspace and create an experiment\n",
    "\n",
    "You start with importing some libraries and creating an experiment to track the runs in your workspace. A workspace can have multiple experiments, and all the users that have access to the workspace can collaborate on them. "
   ]
  },
  {
   "cell_type": "code",
   "execution_count": 1,
   "metadata": {
    "collapsed": false,
    "gather": {
     "logged": 1612968646250
    },
    "jupyter": {
     "outputs_hidden": false,
     "source_hidden": false
    },
    "nteract": {
     "transient": {
      "deleting": false
     }
    }
   },
   "outputs": [],
   "source": [
    "import logging\n",
    "\n",
    "from matplotlib import pyplot as plt\n",
    "import pandas as pd\n",
    "import numpy as np\n",
    "\n",
    "import azureml.core\n",
    "from azureml.core.experiment import Experiment\n",
    "from azureml.core.workspace import Workspace\n",
    "from azureml.core.dataset import Dataset\n",
    "from azureml.train.automl import AutoMLConfig"
   ]
  },
  {
   "cell_type": "code",
   "execution_count": 2,
   "metadata": {
    "collapsed": false,
    "gather": {
     "logged": 1612968706273
    },
    "jupyter": {
     "outputs_hidden": false,
     "source_hidden": false
    },
    "nteract": {
     "transient": {
      "deleting": false
     }
    }
   },
   "outputs": [],
   "source": [
    "ws = Workspace.from_config(r\"../../../.azureml/config.json\") # root configuration.ipynb 建立的"
   ]
  },
  {
   "cell_type": "code",
   "execution_count": 3,
   "metadata": {
    "collapsed": false,
    "gather": {
     "logged": 1612968706273
    },
    "jupyter": {
     "outputs_hidden": false,
     "source_hidden": false
    },
    "nteract": {
     "transient": {
      "deleting": false
     }
    }
   },
   "outputs": [],
   "source": [
    "# choose a name for your experiment\n",
    "experiment_name = \"fraud-classification-automl-tutorial\"\n",
    "\n",
    "experiment = Experiment(ws, experiment_name)"
   ]
  },
  {
   "cell_type": "markdown",
   "metadata": {},
   "source": [
    "上 Azure AML studio web page 去看，真的有這個 experiment 出現了！"
   ]
  },
  {
   "cell_type": "markdown",
   "metadata": {
    "nteract": {
     "transient": {
      "deleting": false
     }
    }
   },
   "source": [
    "### Load Data\n",
    "\n",
    "Load the credit card dataset from a csv file containing both training features and labels. The features are inputs to the model, while the training labels represent the expected output of the model. Next, we'll split the data using random_split and extract the training data for the model.\n",
    "\n",
    "\n",
    "Follow this [how-to](https://aka.ms/azureml/howto/createdatasets) if you want to learn more about Datasets and how to use them.\n",
    "\n",
    "\n"
   ]
  },
  {
   "cell_type": "code",
   "execution_count": 5,
   "metadata": {
    "collapsed": false,
    "gather": {
     "logged": 1612968722555
    },
    "jupyter": {
     "outputs_hidden": false,
     "source_hidden": false
    },
    "nteract": {
     "transient": {
      "deleting": false
     }
    }
   },
   "outputs": [],
   "source": [
    "data = \"https://automlsamplenotebookdata.blob.core.windows.net/automl-sample-notebook-data/creditcard.csv\"\n",
    "dataset = Dataset.Tabular.from_delimited_files(data)\n",
    "training_data, validation_data = dataset.random_split(percentage=0.8, seed=223)\n",
    "label_column_name = \"Class\""
   ]
  },
  {
   "cell_type": "code",
   "execution_count": 16,
   "metadata": {},
   "outputs": [
    {
     "name": "stdout",
     "output_type": "stream",
     "text": [
      "training_data --> TabularDataset\n",
      "{\n",
      "  \"source\": [\n",
      "    \"https://automlsamplenotebookdata.blob.core.windows.net/automl-sample-notebook-data/creditcard.csv\"\n",
      "  ],\n",
      "  \"definition\": [\n",
      "    \"GetFiles\",\n",
      "    \"ParseDelimited\",\n",
      "    \"DropColumns\",\n",
      "    \"SetColumnTypes\",\n",
      "    \"TakeSample\"\n",
      "  ]\n",
      "} (<class 'azureml.data.tabular_dataset.TabularDataset'>)\n"
     ]
    }
   ],
   "source": [
    "%f training_data -->"
   ]
  },
  {
   "cell_type": "raw",
   "metadata": {},
   "source": [
    "%f dataset dir --> cr\n",
    "%f dataset :> Tabular dir --> cr\n",
    "?dataset.Tabular.from_delimited_files"
   ]
  },
  {
   "cell_type": "markdown",
   "metadata": {
    "nteract": {
     "transient": {
      "deleting": false
     }
    },
    "tags": []
   },
   "source": [
    "## Train\n",
    "\n",
    "\n",
    "\n",
    "When you use automated machine learning in Azure ML, you input training data and configuration settings, and the process automatically iterates through combinations of different feature normalization/standardization methods, models, and hyperparameter settings to arrive at the best model. \n",
    "Learn more about how you configure automated ML [here](https://docs.microsoft.com/azure/machine-learning/how-to-configure-auto-train).\n",
    "\n",
    "\n",
    "Instantiate an [AutoMLConfig](https://docs.microsoft.com/python/api/azureml-train-automl-client/azureml.train.automl.automlconfig.automlconfig?view=azure-ml-py) object. This defines the settings and data used to run the experiment.\n",
    "\n",
    "|Property|Description|\n",
    "|-|-|\n",
    "|**task**|classification or regression|\n",
    "|**primary_metric**|This is the metric that you want to optimize. \n",
    "|**enable_early_stopping**  | Stop the run if the metric score is not showing improvement.|\n",
    "|**n_cross_validations**|Number of cross validation splits.|\n",
    "|**training_data**|Input dataset, containing both features and label column.|\n",
    "|**label_column_name**|The name of the label column.|\n",
    "\n",
    "You can find more information about primary metrics [here](https://docs.microsoft.com/azure/machine-learning/service/how-to-configure-auto-train#primary-metric)"
   ]
  },
  {
   "cell_type": "code",
   "execution_count": 17,
   "metadata": {
    "collapsed": false,
    "gather": {
     "logged": 1612968806233
    },
    "jupyter": {
     "outputs_hidden": false,
     "source_hidden": false
    },
    "nteract": {
     "transient": {
      "deleting": false
     }
    }
   },
   "outputs": [],
   "source": [
    "automl_settings = {\n",
    "    \"n_cross_validations\": 3,\n",
    "    \"primary_metric\": \"average_precision_score_weighted\",\n",
    "    \"experiment_timeout_hours\": 0.25,  # This is a time limit for testing purposes, remove it for real use cases, this will drastically limit ability to find the best model possible\n",
    "    \"verbosity\": logging.INFO,\n",
    "    \"enable_stack_ensemble\": False,\n",
    "}\n",
    "\n",
    "automl_config = AutoMLConfig(\n",
    "    task=\"classification\",\n",
    "    debug_log=\"automl_errors.log\",\n",
    "    training_data=training_data,\n",
    "    label_column_name=label_column_name,\n",
    "    **automl_settings,\n",
    ")"
   ]
  },
  {
   "cell_type": "markdown",
   "metadata": {
    "nteract": {
     "transient": {
      "deleting": false
     }
    }
   },
   "source": [
    "Call the `submit` method on the experiment object and pass the run configuration. \n",
    "\n",
    "**Note: Depending on the data and the number of iterations an AutoML run can take a while to complete.**\n",
    "\n",
    "In this example, we specify `show_output = True` to print currently running iterations to the console. It is also possible to navigate to the experiment through the **Experiment** activity tab in the left menu, and monitor the run status from there."
   ]
  },
  {
   "cell_type": "code",
   "execution_count": 18,
   "metadata": {
    "collapsed": false,
    "gather": {
     "logged": 1612970125369
    },
    "jupyter": {
     "outputs_hidden": false,
     "source_hidden": false
    },
    "nteract": {
     "transient": {
      "deleting": false
     }
    }
   },
   "outputs": [
    {
     "name": "stdout",
     "output_type": "stream",
     "text": [
      "No run_configuration provided, running on local with default configuration\n",
      "Running in the active local environment.\n"
     ]
    },
    {
     "data": {
      "text/html": [
       "<table style=\"width:100%\"><tr><th>Experiment</th><th>Id</th><th>Type</th><th>Status</th><th>Details Page</th><th>Docs Page</th></tr><tr><td>fraud-classification-automl-tutorial</td><td>AutoML_0cb9c1ec-a8f3-4980-aabb-b3ee87fd511e</td><td>automl</td><td>Preparing</td><td><a href=\"https://ml.azure.com/runs/AutoML_0cb9c1ec-a8f3-4980-aabb-b3ee87fd511e?wsid=/subscriptions/c27e04e6-ca10-453d-9c80-1931b65eb245/resourcegroups/my_azure_AutoML_resource_group/workspaces/my_azure_AutoML_workspace&amp;tid=de0795e0-d7c0-4eeb-b9bb-bc94d8980d3b\" target=\"_blank\" rel=\"noopener\">Link to Azure Machine Learning studio</a></td><td><a href=\"https://docs.microsoft.com/en-us/python/api/overview/azure/ml/intro?view=azure-ml-py\" target=\"_blank\" rel=\"noopener\">Link to Documentation</a></td></tr></table>"
      ],
      "text/plain": [
       "<IPython.core.display.HTML object>"
      ]
     },
     "metadata": {},
     "output_type": "display_data"
    },
    {
     "name": "stdout",
     "output_type": "stream",
     "text": [
      "Current status: DatasetEvaluation. Gathering dataset statistics.\n",
      "Current status: FeaturesGeneration. Generating features for the dataset.\n",
      "Current status: DatasetFeaturization. Beginning to fit featurizers and featurize the dataset.\n",
      "Current status: DatasetFeaturizationCompleted. Completed fit featurizers and featurizing the dataset.\n",
      "Current status: DatasetBalancing. Performing class balancing sweeping\n",
      "Current status: DatasetCrossValidationSplit. Generating individually featurized CV splits.\n",
      "\n",
      "********************************************************************************************\n",
      "DATA GUARDRAILS: \n",
      "\n",
      "TYPE:         Class balancing detection\n",
      "STATUS:       ALERTED\n",
      "DESCRIPTION:  To decrease model bias, please cancel the current run and fix balancing problem.\n",
      "              Learn more about imbalanced data: https://aka.ms/AutomatedMLImbalancedData\n",
      "DETAILS:      Imbalanced data can lead to a falsely perceived positive effect of a model's accuracy because the input data has bias towards one class.\n",
      "+------------------------------+--------------------------------+--------------------------------------+\n",
      "|Size of the smallest class    |Name/Label of the smallest class|Number of samples in the training data|\n",
      "+==============================+================================+======================================+\n",
      "|382                           |True                            |227711                                |\n",
      "+------------------------------+--------------------------------+--------------------------------------+\n",
      "\n",
      "********************************************************************************************\n",
      "\n",
      "TYPE:         Missing feature values imputation\n",
      "STATUS:       DONE\n",
      "DESCRIPTION:  If the missing values are expected, let the run complete. Otherwise cancel the current run and use a script to customize the handling of missing feature values that may be more appropriate based on the data type and business requirement.\n",
      "              Learn more about missing value imputation: https://aka.ms/AutomatedMLFeaturization\n",
      "DETAILS:      \n",
      "+------------------------------+------------------------------+------------------------------+\n",
      "|Column name                   |Missing value count           |Imputation type               |\n",
      "+==============================+==============================+==============================+\n",
      "|Time                          |1                             |mean                          |\n",
      "+------------------------------+------------------------------+------------------------------+\n",
      "\n",
      "********************************************************************************************\n",
      "\n",
      "TYPE:         High cardinality feature detection\n",
      "STATUS:       PASSED\n",
      "DESCRIPTION:  Your inputs were analyzed, and no high cardinality features were detected.\n",
      "              Learn more about high cardinality feature handling: https://aka.ms/AutomatedMLFeaturization\n",
      "\n",
      "********************************************************************************************\n",
      "Current status: ModelSelection. Beginning model selection.\n",
      "\n",
      "********************************************************************************************\n",
      "ITER: The iteration being evaluated.\n",
      "PIPELINE: A summary description of the pipeline being evaluated.\n",
      "DURATION: Time taken for the current iteration.\n",
      "METRIC: The result of computing score on the fitted pipeline.\n",
      "BEST: The best observed score thus far.\n",
      "********************************************************************************************\n",
      "\n",
      " ITER   PIPELINE                                       DURATION            METRIC      BEST\n",
      "    0   MaxAbsScaler LightGBM                          0:00:51             0.9979    0.9979\n",
      "    1   MaxAbsScaler ExtremeRandomTrees                0:01:04             0.9994    0.9994\n",
      "    2   MaxAbsScaler LightGBM                          0:00:38             0.9994    0.9994\n",
      "    3   MaxAbsScaler LogisticRegression                0:00:49             0.9994    0.9994\n",
      "    4   StandardScalerWrapper LogisticRegression       0:00:49             0.9995    0.9995\n",
      "    5   MaxAbsScaler ExtremeRandomTrees                0:01:11             0.9994    0.9995\n",
      "    6   StandardScalerWrapper ExtremeRandomTrees       0:00:41             0.9993    0.9995\n",
      "    7   MaxAbsScaler LightGBM                          0:00:41             0.9994    0.9995\n",
      "    8   StandardScalerWrapper LogisticRegression       0:01:17             0.9994    0.9995\n",
      "    9   MinMaxScaler ExtremeRandomTrees                0:00:56             0.9994    0.9995\n",
      "   10   StandardScalerWrapper ExtremeRandomTrees       0:00:36             0.9978    0.9995\n",
      "   11   SparseNormalizer LightGBM                      0:00:40             0.9995    0.9995\n",
      "   12   MaxAbsScaler ExtremeRandomTrees                0:00:40             0.9990    0.9995\n",
      "   13   StandardScalerWrapper RandomForest             0:02:24             0.9994    0.9995\n",
      "   14   VotingEnsemble                                 0:02:19             0.9996    0.9996\n",
      "Stopping criteria reached at iteration 15. Ending experiment.\n",
      "********************************************************************************************\n",
      "Current status: BestRunExplainModel. Best run model explanations started\n",
      "Current status: ModelExplanationDataSetSetup. Model explanations data setup completed\n",
      "Current status: PickSurrogateModel. Choosing LightGBM as the surrogate model for explanations\n",
      "Current status: EngineeredFeatureExplanations. Computation of engineered features started\n",
      "Current status: EngineeredFeatureExplanations. Computation of engineered features completed\n",
      "Current status: RawFeaturesExplanations. Computation of raw features started\n",
      "Current status: RawFeaturesExplanations. Computation of raw features completed\n",
      "Current status: BestRunExplainModel. Best run model explanations completed\n",
      "********************************************************************************************\n"
     ]
    }
   ],
   "source": [
    "local_run = experiment.submit(automl_config, show_output=True)"
   ]
  },
  {
   "cell_type": "code",
   "execution_count": 19,
   "metadata": {
    "collapsed": false,
    "gather": {
     "logged": 1612976292559
    },
    "jupyter": {
     "outputs_hidden": false,
     "source_hidden": false
    },
    "nteract": {
     "transient": {
      "deleting": false
     }
    }
   },
   "outputs": [
    {
     "data": {
      "text/html": [
       "<table style=\"width:100%\"><tr><th>Experiment</th><th>Id</th><th>Type</th><th>Status</th><th>Details Page</th><th>Docs Page</th></tr><tr><td>fraud-classification-automl-tutorial</td><td>AutoML_0cb9c1ec-a8f3-4980-aabb-b3ee87fd511e</td><td>automl</td><td>Completed</td><td><a href=\"https://ml.azure.com/runs/AutoML_0cb9c1ec-a8f3-4980-aabb-b3ee87fd511e?wsid=/subscriptions/c27e04e6-ca10-453d-9c80-1931b65eb245/resourcegroups/my_azure_AutoML_resource_group/workspaces/my_azure_AutoML_workspace&amp;tid=de0795e0-d7c0-4eeb-b9bb-bc94d8980d3b\" target=\"_blank\" rel=\"noopener\">Link to Azure Machine Learning studio</a></td><td><a href=\"https://docs.microsoft.com/en-us/python/api/overview/azure/ml/intro?view=azure-ml-py\" target=\"_blank\" rel=\"noopener\">Link to Documentation</a></td></tr></table>"
      ],
      "text/plain": [
       "Run(Experiment: fraud-classification-automl-tutorial,\n",
       "Id: AutoML_0cb9c1ec-a8f3-4980-aabb-b3ee87fd511e,\n",
       "Type: automl,\n",
       "Status: Completed)"
      ]
     },
     "execution_count": 19,
     "metadata": {},
     "output_type": "execute_result"
    }
   ],
   "source": [
    "local_run"
   ]
  },
  {
   "cell_type": "code",
   "execution_count": 20,
   "metadata": {},
   "outputs": [
    {
     "name": "stdout",
     "output_type": "stream",
     "text": [
      "local_run --> Run(Experiment: fraud-classification-automl-tutorial,\n",
      "Id: AutoML_0cb9c1ec-a8f3-4980-aabb-b3ee87fd511e,\n",
      "Type: automl,\n",
      "Status: Completed) (<class 'azureml.train.automl.run.AutoMLRun'>)\n"
     ]
    }
   ],
   "source": [
    "%f local_run -->"
   ]
  },
  {
   "cell_type": "markdown",
   "metadata": {
    "nteract": {
     "transient": {
      "deleting": false
     }
    }
   },
   "source": [
    "### Analyze results\n",
    "\n",
    "Below we select the best model from our iterations. The `get_output` method on `automl_classifier` returns the best run and the model for the run."
   ]
  },
  {
   "cell_type": "code",
   "execution_count": 21,
   "metadata": {
    "collapsed": false,
    "gather": {
     "logged": 1612976298373
    },
    "jupyter": {
     "outputs_hidden": false,
     "source_hidden": false
    },
    "nteract": {
     "transient": {
      "deleting": false
     }
    }
   },
   "outputs": [
    {
     "data": {
      "text/plain": [
       "PipelineWithYTransformations(Pipeline={'memory': None,\n",
       "                                       'steps': [('datatransformer',\n",
       "                                                  DataTransformer(enable_dnn=False, enable_feature_sweeping=True, feature_sweeping_config={}, feature_sweeping_timeout=86400, featurization_config=None, force_text_dnn=False, is_cross_validation=True, is_onnx_compatible=False, observer=None, task='classification', working_dir='C:\\...\n",
       "                                                  PreFittedSoftVotingClassifier(classification_labels=array([0, 1], dtype=int64), estimators=[('11', Pipeline(memory=None, steps=[('sparsenormalizer', Normalizer(copy=True, norm='l1')), ('lightgbmclassifier', LightGBMClassifier(boosting_type='gbdt', colsample_bytree=0.8911111111111111, learning_rate=0.0842121052631579, max_bin=290, max_depth=3, min_child_weight=6, min_data_in_leaf=0.024145517241379314, min_split_gain=0.7368421052631579, n_estimators=25, n_jobs=1, num_leaves=137, problem_info=ProblemInfo(gpu_training_param_dict={'processing_unit_type': 'cpu'}), random_state=None, reg_alpha=0.15789473684210525, reg_lambda=0, subsample=0.29736842105263156))], verbose=False)), ('4', Pipeline(memory=None, steps=[('standardscalerwrapper', StandardScalerWrapper(copy=True, with_mean=True, with_std=False)), ('logisticregression', LogisticRegression(C=339.3221771895323, class_weight=None, dual=False, fit_intercept=True, intercept_scaling=1, l1_ratio=None, max_iter=100, multi_class='multinomial', n_jobs=1, penalty='l2', random_state=None, solver='lbfgs', tol=0.0001, verbose=0, warm_start=False))], verbose=False)), ('3', Pipeline(memory=None, steps=[('maxabsscaler', MaxAbsScaler(copy=True)), ('logisticregression', LogisticRegression(C=4714.8663634573895, class_weight='balanced', dual=False, fit_intercept=True, intercept_scaling=1, l1_ratio=None, max_iter=100, multi_class='multinomial', n_jobs=1, penalty='l2', random_state=None, solver='lbfgs', tol=0.0001, verbose=0, warm_start=False))], verbose=False)), ('9', Pipeline(memory=None, steps=[('minmaxscaler', MinMaxScaler(copy=True, feature_range=(0, 1))), ('extratreesclassifier', ExtraTreesClassifier(bootstrap=False, ccp_alpha=0.0, class_weight='balanced', criterion='gini', max_depth=None, max_features=0.9, max_leaf_nodes=None, max_samples=None, min_impurity_decrease=0.0, min_impurity_split=None, min_samples_leaf=0.01, min_samples_split=0.01, min_weight_fraction_leaf=0.0, n_estimators=25, n_jobs=1, oob_score=False, random_state=None, verbose=0, warm_start=False))], verbose=False)), ('8', Pipeline(memory=None, steps=[('standardscalerwrapper', StandardScalerWrapper(copy=True, with_mean=True, with_std=True)), ('logisticregression', LogisticRegression(C=2.559547922699533, class_weight='balanced', dual=False, fit_intercept=True, intercept_scaling=1, l1_ratio=None, max_iter=100, multi_class='multinomial', n_jobs=1, penalty='l2', random_state=None, solver='newton-cg', tol=0.0001, verbose=0, warm_start=False))], verbose=False)), ('5', Pipeline(memory=None, steps=[('maxabsscaler', MaxAbsScaler(copy=True)), ('extratreesclassifier', ExtraTreesClassifier(bootstrap=False, ccp_alpha=0.0, class_weight='balanced', criterion='gini', max_depth=None, max_features='log2', max_leaf_nodes=None, max_samples=None, min_impurity_decrease=0.0, min_impurity_split=None, min_samples_leaf=0.01, min_samples_split=0.056842105263157895, min_weight_fraction_leaf=0.0, n_estimators=400, n_jobs=1, oob_score=False, random_state=None, verbose=0, warm_start=False))], verbose=False)), ('12', Pipeline(memory=None, steps=[('maxabsscaler', MaxAbsScaler(copy=True)), ('extratreesclassifier', ExtraTreesClassifier(bootstrap=False, ccp_alpha=0.0, class_weight=None, criterion='entropy', max_depth=None, max_features=0.05, max_leaf_nodes=None, max_samples=None, min_impurity_decrease=0.0, min_impurity_split=None, min_samples_leaf=0.01, min_samples_split=0.01, min_weight_fraction_leaf=0.0, n_estimators=100, n_jobs=1, oob_score=False, random_state=None, verbose=0, warm_start=False))], verbose=False)), ('0', Pipeline(memory=None, steps=[('maxabsscaler', MaxAbsScaler(copy=True)), ('lightgbmclassifier', LightGBMClassifier(min_data_in_leaf=20, n_jobs=1, problem_info=ProblemInfo(gpu_training_param_dict={'processing_unit_type': 'cpu'}), random_state=None))], verbose=False)), ('10', Pipeline(memory=None, steps=[('standardscalerwrapper', StandardScalerWrapper(copy=True, with_mean=False, with_std=False)), ('extratreesclassifier', ExtraTreesClassifier(bootstrap=False, ccp_alpha=0.0, class_weight=None, criterion='entropy', max_depth=None, max_features=0.05, max_leaf_nodes=None, max_samples=None, min_impurity_decrease=0.0, min_impurity_split=None, min_samples_leaf=0.01, min_samples_split=0.01, min_weight_fraction_leaf=0.0, n_estimators=25, n_jobs=1, oob_score=False, random_state=None, verbose=0, warm_start=False))], verbose=False))], flatten_transform=None, weights=[0.13333333333333333, 0.06666666666666667, 0.13333333333333333, 0.06666666666666667, 0.06666666666666667, 0.13333333333333333, 0.06666666666666667, 0.06666666666666667, 0.26666666666666666]))],\n",
       "                                       'verbose': False},\n",
       "                             y_transformer={},\n",
       "                             y_transformer_name='LabelEncoder')"
      ]
     },
     "execution_count": 21,
     "metadata": {},
     "output_type": "execute_result"
    }
   ],
   "source": [
    "best_run, best_model = local_run.get_output()\n",
    "best_model"
   ]
  },
  {
   "cell_type": "markdown",
   "metadata": {
    "nteract": {
     "transient": {
      "deleting": false
     }
    }
   },
   "source": [
    "## Tests\n",
    "\n",
    "Now that the model is trained, split the data in the same way the data was split for training (The difference here is the data is being split locally) and then run the test data through the trained model to get the predicted values."
   ]
  },
  {
   "cell_type": "code",
   "execution_count": 22,
   "metadata": {
    "collapsed": false,
    "gather": {
     "logged": 1612976320370
    },
    "jupyter": {
     "outputs_hidden": false,
     "source_hidden": false
    },
    "nteract": {
     "transient": {
      "deleting": false
     }
    }
   },
   "outputs": [],
   "source": [
    "# convert the test data to dataframe\n",
    "X_test_df = validation_data.drop_columns(\n",
    "    columns=[label_column_name]\n",
    ").to_pandas_dataframe()\n",
    "y_test_df = validation_data.keep_columns(\n",
    "    columns=[label_column_name], validate=True\n",
    ").to_pandas_dataframe()"
   ]
  },
  {
   "cell_type": "code",
   "execution_count": 23,
   "metadata": {
    "collapsed": false,
    "gather": {
     "logged": 1612976325829
    },
    "jupyter": {
     "outputs_hidden": false,
     "source_hidden": false
    },
    "nteract": {
     "transient": {
      "deleting": false
     }
    }
   },
   "outputs": [
    {
     "data": {
      "text/plain": [
       "array([False, False, False, ..., False, False, False])"
      ]
     },
     "execution_count": 23,
     "metadata": {},
     "output_type": "execute_result"
    }
   ],
   "source": [
    "# call the predict functions on the model\n",
    "y_pred = best_model.predict(X_test_df)\n",
    "y_pred"
   ]
  },
  {
   "cell_type": "markdown",
   "metadata": {
    "nteract": {
     "transient": {
      "deleting": false
     }
    }
   },
   "source": [
    "\n",
    "\n",
    "### Calculate metrics for the prediction\n",
    "\n",
    "Now visualize the data to show what our truth (actual) values are compared to the predicted values \n",
    "from the trained model that was returned.\n",
    "\n"
   ]
  },
  {
   "cell_type": "code",
   "execution_count": 24,
   "metadata": {
    "collapsed": false,
    "gather": {
     "logged": 1612976330108
    },
    "jupyter": {
     "outputs_hidden": false
    },
    "nteract": {
     "transient": {
      "deleting": false
     }
    }
   },
   "outputs": [
    {
     "data": {
      "image/png": "[encoded data removed]",
      "text/plain": [
       "<Figure size 432x288 with 2 Axes>"
      ]
     },
     "metadata": {
      "needs_background": "light"
     },
     "output_type": "display_data"
    }
   ],
   "source": [
    "from sklearn.metrics import confusion_matrix\n",
    "import numpy as np\n",
    "import itertools\n",
    "\n",
    "cf = confusion_matrix(y_test_df.values, y_pred)\n",
    "plt.imshow(cf, cmap=plt.cm.Blues, interpolation=\"nearest\")\n",
    "plt.colorbar()\n",
    "plt.title(\"Confusion Matrix\")\n",
    "plt.xlabel(\"Predicted\")\n",
    "plt.ylabel(\"Actual\")\n",
    "class_labels = [\"False\", \"True\"]\n",
    "tick_marks = np.arange(len(class_labels))\n",
    "plt.xticks(tick_marks, class_labels)\n",
    "plt.yticks([-0.5, 0, 1, 1.5], [\"\", \"False\", \"True\", \"\"])\n",
    "# plotting text value inside cells\n",
    "thresh = cf.max() / 2.0\n",
    "for i, j in itertools.product(range(cf.shape[0]), range(cf.shape[1])):\n",
    "    plt.text(\n",
    "        j,\n",
    "        i,\n",
    "        format(cf[i, j], \"d\"),\n",
    "        horizontalalignment=\"center\",\n",
    "        color=\"white\" if cf[i, j] > thresh else \"black\",\n",
    "    )\n",
    "plt.show()"
   ]
  },
  {
   "cell_type": "markdown",
   "metadata": {
    "nteract": {
     "transient": {
      "deleting": false
     }
    }
   },
   "source": [
    "## Control cost and further exploration\n",
    "\n",
    "If you want to control cost you can stop the compute instance this notebook is running on by clicking the \"Stop compute\" button next to the status dropdown in the menu above.\n",
    "\n",
    "\n",
    "If you want to run more notebook samples, you can click on **Sample Notebooks** next to the **Files** view and explore the notebooks made available for you there."
   ]
  }
 ],
 "metadata": {
  "authors": [
   {
    "name": "cewidste"
   }
  ],
  "kernelspec": {
   "display_name": "Python 3",
   "language": "python",
   "name": "python3"
  },
  "language_info": {
   "codemirror_mode": {
    "name": "ipython",
    "version": 3
   },
   "file_extension": ".py",
   "mimetype": "text/x-python",
   "name": "python",
   "nbconvert_exporter": "python",
   "pygments_lexer": "ipython3",
   "version": "3.6.13"
  },
  "notice": "Copyright (c) Microsoft Corporation. All rights reserved. Licensed under the MIT License.",
  "nteract": {
   "version": "nteract-front-end@1.0.0"
  }
 },
 "nbformat": 4,
 "nbformat_minor": 4
}
