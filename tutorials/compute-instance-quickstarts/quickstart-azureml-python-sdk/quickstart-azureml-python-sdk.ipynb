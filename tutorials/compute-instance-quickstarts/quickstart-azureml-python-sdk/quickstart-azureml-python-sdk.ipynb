{
 "cells": [
  {
   "cell_type": "code",
   "execution_count": 11,
   "metadata": {
    "collapsed": true,
    "jupyter": {
     "outputs_hidden": true
    },
    "tags": []
   },
   "outputs": [
    {
     "name": "stdout",
     "output_type": "stream",
     "text": [
      "p e f o r t h    v1.28\n",
      "source code http://github.com/hcchengithub/peforth\n",
      "Type 'peforth.ok()' to enter forth interpreter, 'exit' to come back.\n",
      "\n",
      "*** Start self-test \n",
      "*** Data stack should be empty ... pass\n",
      "*** Rreturn stack should have less than 2 cells ... pass\n",
      "*** // adds help to the last word ... pass\n",
      "*** TIB lines after \\ should be ignored ... pass\n",
      "*** slice ... pass\n",
      "reDef ---\n",
      "*** case ... endcase ... pass\n",
      "*** modules lists imported modules ... pass\n",
      "*** cd mimic DOS/Linux cd command ... pass\n",
      "*** debugger commands x@ x> >x .sx xdrop xdropall ... pass\n",
      "*** xstack commands x@ x> >x .sx xdrop xdropall ... pass\n",
      "*** /// add comment to the last word ... pass\n",
      "*** immediate makes the LAST an immediate word ... pass\n",
      "*** compyle source code to function ... pass\n",
      "*** </pyV> based on </py> and on compyle ... pass\n",
      "*** interpret-only marks the last word an interpret-only word ... pass\n",
      "*** immediate marks the last word an immediate word ... pass\n",
      "*** compile-only marks last word as a compile-only word ... pass\n",
      "*** literal is a compiling comamnd that can improve run time performance ... pass\n",
      "*** (create) creates a new word ... pass\n",
      "*** ' (tick) gets word object ... pass\n",
      "*** \"drop\" drops the TOS ... pass\n",
      "*** here points to next available address ... pass\n",
      "*** version should return a floating point number ... pass\n",
      "*** (space) puts a 0x20 on TOS ... pass\n",
      "*** BL should return the string '\\s' literally ... pass\n",
      "*** CR should return the string \\n|\\r literally ... pass\n",
      "*** word reads \"string\" from TIB ... pass\n",
      "*** py> eval(pop()) should eval(tos) ... pass\n",
      "*** last should return the last word ... pass\n",
      "*** exit should stop a colon word ... pass\n",
      "*** (forget) forgets the last word ... pass\n",
      "*** begin ... again loop covers many things ... pass\n",
      "*** ! @ >r r> r@ drop dup swap over 0< ... pass\n",
      "*** ' tick and (') should return a word object ... pass\n",
      "*** bool and or not AND OR NOT XOR ... pass\n",
      "*** + * - / 1+ 2+ 1- 2- ... pass\n",
      "*** >> -1 signed right shift n times will be still -1 ... pass\n",
      "*** >> -4 signed right shift becomes -2 ... pass\n",
      "*** << -1 signed left shift 63 times become the smallest int number ... pass\n",
      "*** 0= 0<> 0> 0>= 0< 0<= ... pass\n",
      "*** == compares tos(1) and tos() after booleanized ... pass\n",
      "*** > < >= <= != != <> ... pass\n",
      "*** abs makes negative positive ... pass\n",
      "*** max min within ... pass\n",
      "*** doVar doNext ... pass\n",
      "*** pick 2 from 1 2 3 gets 1 2 3 1 ... pass\n",
      "*** roll 2 from 1 2 3 gets 2 3 1 ... pass\n",
      "*** [compile] compile [ ] ... pass\n",
      "*** alias should create a new word that acts same ... pass\n",
      "*** nip rot -rot 2drop 2dup invert negate within ... pass\n",
      "*** ['] tick next word immediately ... pass\n",
      "*** allot should consume some dictionary cells ... pass\n",
      "*** begin again , begin until ... pass\n",
      "*** aft for then next ahead begin while repeat ... pass\n",
      "*** ?dup dup only when it's True ... pass\n",
      "*** +! variable ... pass\n",
      "*** spaces chars ... pass\n",
      "*** .( ( .\" .' s\" s' s` ... pass\n",
      "*** count ... pass\n",
      "*** value and to work together ... pass\n",
      "*** <comment>...</comment> can be nested now ... pass\n",
      "*** constant value and to ... pass\n",
      "*** int 3.14 is 3, 12.34 is 12 ... pass\n",
      "*** drops n data stack cells ... ... pass\n",
      "*** dropall clean the data stack ... pass\n",
      "*** ASCII char>ASCII ASCII>char ... pass\n",
      "*** .s is probably the most frequently used word ... pass\n",
      "*** see (see) ... pass\n",
      "*** trim indent -indent ... pass\n",
      "*** py:~ py>~ ... pass\n",
      "*** here here! , ? allot ... pass\n",
      "*** create does> ... pass\n",
      "*** words help ... pass\n",
      "*** dict>keys dir type ... pass\n",
      "*** [if] [else] [then] [begin] [again] [until] [for] [next] ... pass\n",
      "*** du dump ... pass\n",
      "*** [r r] ... pass\n",
      "*** End of peforth.f self-test ... pass\n",
      "*** (pyclude) pyclude run ~.py file ... pass\n",
      "*** .members .source ... pass\n",
      "*** sign gets the + or - of the given number to 1 or -1 ... pass\n",
      "*** round-off ... pass\n",
      "*** txt2json ... pass\n",
      "*** dos shell to DOSbox or run DOS command ... pass\n",
      "reDef cls\n"
     ]
    }
   ],
   "source": [
    "%run ../../../forth.py"
   ]
  },
  {
   "cell_type": "markdown",
   "metadata": {
    "nteract": {
     "transient": {
      "deleting": false
     }
    }
   },
   "source": [
    "# Quickstart: Learn how to submit batch jobs with the Azure Machine Learning Python SDK\n",
    "\n",
    "In this quickstart, you learn how to submit a batch training job using the Python SDK. In this example, we submit the job to the 'local' machine (the compute instance you are running this notebook on). However, you can use exactly the same method to submit the job to different compute targets (for example, AKS, Azure Machine Learning Compute Cluster, Synapse, etc) by changing a single line of code. A full list of support compute targets can be viewed [here](https://docs.microsoft.com/en-us/azure/machine-learning/concept-compute-target). \n",
    "\n",
    "This quickstart trains a simple logistic regression using the [MNIST](https://docs.microsoft.com/azure/open-datasets/dataset-mnist) dataset and [scikit-learn](http://scikit-learn.org) with Azure Machine Learning.  MNIST is a popular dataset consisting of 70,000 grayscale images. Each image is a handwritten digit of 28x28 pixels, representing a number from 0 to 9. The goal is to create a multi-class classifier to identify the digit a given image represents. \n",
    "\n",
    "You will learn how to:\n",
    "\n",
    "> * Download a dataset and look at the data\n",
    "> * Train an image classification model by submitting a batch job to a compute resource\n",
    "> * Use MLflow autologging to track model metrics and log the model artefact\n",
    "> * Review training results, find and register the best model"
   ]
  },
  {
   "cell_type": "markdown",
   "metadata": {
    "nteract": {
     "transient": {
      "deleting": false
     }
    }
   },
   "source": [
    "### Connect to your workspace and create an experiment\n",
    "\n",
    "You start with importing some libraries and creating an experiment to track the runs in your workspace. A workspace can have multiple experiments, and all the users that have access to the workspace can collaborate on them. "
   ]
  },
  {
   "cell_type": "code",
   "execution_count": 1,
   "metadata": {
    "collapsed": false,
    "gather": {
     "logged": 1612965838618
    },
    "jupyter": {
     "outputs_hidden": false,
     "source_hidden": false
    },
    "nteract": {
     "transient": {
      "deleting": false
     }
    }
   },
   "outputs": [],
   "source": [
    "from azureml.core import Workspace\n",
    "from azureml.core import Experiment"
   ]
  },
  {
   "cell_type": "code",
   "execution_count": 3,
   "metadata": {
    "collapsed": false,
    "gather": {
     "logged": 1612965838618
    },
    "jupyter": {
     "outputs_hidden": false,
     "source_hidden": false
    },
    "nteract": {
     "transient": {
      "deleting": false
     }
    }
   },
   "outputs": [],
   "source": [
    "# connect to your workspace\n",
    "ws = Workspace.from_config(r\"d:\\hcchen\\OneDrive\\文件\\Jupyter Notebooks\\Azure\\.azureml\\config.json\")"
   ]
  },
  {
   "cell_type": "code",
   "execution_count": 4,
   "metadata": {
    "collapsed": false,
    "gather": {
     "logged": 1612965838618
    },
    "jupyter": {
     "outputs_hidden": false,
     "source_hidden": false
    },
    "nteract": {
     "transient": {
      "deleting": false
     }
    }
   },
   "outputs": [],
   "source": [
    "experiment_name = \"get-started-with-jobsubmission-tutorial\"\n",
    "exp = Experiment(workspace=ws, name=experiment_name)"
   ]
  },
  {
   "cell_type": "markdown",
   "metadata": {
    "nteract": {
     "transient": {
      "deleting": false
     }
    }
   },
   "source": [
    "### The MNIST dataset\n",
    "\n",
    "Use Azure Open Datasets to get the raw MNIST data files. [Azure Open Datasets](https://docs.microsoft.com/azure/open-datasets/overview-what-are-open-datasets) are curated public datasets that you can use to add scenario-specific features to machine learning solutions for more accurate models. Each dataset has a corresponding class, `MNIST` in this case, to retrieve the data in different ways.\n",
    "\n",
    "Follow this [how-to](https://aka.ms/azureml/howto/createdatasets) if you want to learn more about Datasets and how to use them.\n",
    "\n",
    "咱碰到這個問題： No module named 'azureml.opendatasets'。查 pip list | find \"azureml\" 還真的沒有。查 google [找到答案 on this tutorial repo's issue list.](https://github.com/Azure/MachineLearningNotebooks/issues/518)。結果這個 datasets 恐怕很大。。。 做吧！\n",
    "\n",
    "    pip install azureml-opendatasets \n",
    "    \n",
    "這個 pip install 要連坐兩次才會成功。第一次的 error message 又是 pywin32 !! 如下：\n",
    "\n",
    "    Installing collected packages: pywin32, py4j, pyspark, azureml-opendatasets\n",
    "    Attempting uninstall: pywin32\n",
    "    Found existing installation: pywin32 303\n",
    "    Uninstalling pywin32-303:\n",
    "      Successfully uninstalled pywin32-303\n",
    "    ERROR: Could not install packages due to an OSError: [WinError 5] 存取被拒。: 'C:\\\\Users\\\\hcche\\\\AppData\\\\Roaming\\\\Python\\\\Python38\\\\site-packages\\\\~-n32\\\\win32api.pyd'\n",
    "    Check the permissions.\n"
   ]
  },
  {
   "cell_type": "code",
   "execution_count": 7,
   "metadata": {
    "collapsed": false,
    "gather": {
     "logged": 1612965850391
    },
    "jupyter": {
     "outputs_hidden": false,
     "source_hidden": false
    },
    "nteract": {
     "transient": {
      "deleting": false
     }
    }
   },
   "outputs": [],
   "source": [
    "from azureml.opendatasets import MNIST\n",
    "mnist_file_dataset = MNIST.get_file_dataset()"
   ]
  },
  {
   "cell_type": "code",
   "execution_count": 13,
   "metadata": {},
   "outputs": [
    {
     "name": "stdout",
     "output_type": "stream",
     "text": [
      "mnist_file_dataset --> FileDataset\n",
      "{\n",
      "  \"source\": [\n",
      "    \"https://azureopendatastorage.blob.core.windows.net/mnist/*.gz\"\n",
      "  ],\n",
      "  \"definition\": [\n",
      "    \"GetFiles\",\n",
      "    \"ExpressionAddColumn\",\n",
      "    \"StrReplace\",\n",
      "    \"ExpressionAddColumn\",\n",
      "    \"DropColumns\",\n",
      "    \"RenameColumns\",\n",
      "    \"DropColumns\"\n",
      "  ]\n",
      "} (<class 'azureml.data.file_dataset.FileDataset'>)\n",
      "mnist_file_dataset dir --> ['File', 'Tabular', 'add_tags', 'as_cache', 'as_download', 'as_hdfs', 'as_mount', 'as_named_input', 'data_changed_time', 'description', 'download', 'file_metadata', 'filter', 'get_all', 'get_by_id', 'get_by_name', 'get_partition_key_values', 'hydrate', 'id', 'mount', 'name', 'partition_keys', 'random_split', 'register', 'remove_tags', 'skip', 'tags', 'take', 'take_sample', 'to_path', 'unregister_all_versions', 'update', 'version'] (<class 'list'>)\n"
     ]
    }
   ],
   "source": [
    "# 查看這個 dataset \n",
    "%f mnist_file_dataset -->\n",
    "%f mnist_file_dataset dir -->"
   ]
  },
  {
   "cell_type": "markdown",
   "metadata": {},
   "source": [
    "### Define the Environment\n",
    "An Environment defines Python packages, environment variables, and Docker settings that are used in machine learning experiments. Here you will be using a curated environment that has already been made available through the workspace. \n",
    "\n",
    "Read [this article](https://docs.microsoft.com/azure/machine-learning/how-to-use-environments) if you want to learn more about Environments and how to use them.\n",
    "\n",
    "\"Environment\" 是個新字 to me. 我以為是前兩天在 AutoML studio 上玩過的 \"Experiment\" 非也。先照用就對了。。。"
   ]
  },
  {
   "cell_type": "code",
   "execution_count": 14,
   "metadata": {
    "collapsed": false,
    "gather": {
     "logged": 1612965877458
    },
    "jupyter": {
     "outputs_hidden": false,
     "source_hidden": false
    },
    "nteract": {
     "transient": {
      "deleting": false
     }
    }
   },
   "outputs": [],
   "source": [
    "from azureml.core.environment import Environment\n",
    "\n",
    "# use a curated environment that has already been built for you\n",
    "\n",
    "env = Environment.get(workspace=ws, \n",
    "                      name=\"AzureML-Scikit-learn0.24-Cuda11-OpenMpi4.1.0-py36\", \n",
    "                      version=1)"
   ]
  },
  {
   "cell_type": "code",
   "execution_count": 15,
   "metadata": {},
   "outputs": [
    {
     "name": "stdout",
     "output_type": "stream",
     "text": [
      "env --> Environment(Name: AzureML-Scikit-learn0.24-Cuda11-OpenMpi4.1.0-py36,\n",
      "Version: 1) (<class 'azureml.core.environment.Environment'>)\n",
      "env dir --> ['add_private_pip_wheel', 'build', 'build_local', 'clone', 'databricks', 'docker', 'environment_variables', 'from_conda_specification', 'from_docker_image', 'from_dockerfile', 'from_existing_conda_environment', 'from_pip_requirements', 'get', 'get_image_details', 'inferencing_stack_version', 'label', 'list', 'load_from_directory', 'name', 'python', 'r', 'register', 'save_to_directory', 'spark', 'version'] (<class 'list'>)\n"
     ]
    }
   ],
   "source": [
    "%f env --> # \n",
    "%f env dir -->"
   ]
  },
  {
   "cell_type": "code",
   "execution_count": null,
   "metadata": {},
   "outputs": [],
   "source": []
  },
  {
   "cell_type": "code",
   "execution_count": null,
   "metadata": {},
   "outputs": [],
   "source": []
  },
  {
   "cell_type": "markdown",
   "metadata": {
    "nteract": {
     "transient": {
      "deleting": false
     }
    }
   },
   "source": [
    "### Configure the training job\n",
    "\n",
    "Create a [ScriptRunConfig](https://docs.microsoft.com/python/api/azureml-core/azureml.core.script_run_config.scriptrunconfig?view=azure-ml-py) object to specify the configuration details of your training job, including your training script, environment to use, and the compute target to run on. Configure the ScriptRunConfig by specifying:\n",
    "\n",
    "* The directory that contains your scripts. All the files in this directory are uploaded into the cluster nodes for execution. \n",
    "* The compute target.  In this case you will point to local compute\n",
    "* The training script name, train.py\n",
    "* An environment that contains the libraries needed to run the script\n",
    "* Arguments required from the training script. \n",
    "\n",
    "In this run we will be submitting to \"local\", which is the compute instance you are running this notebook. If you have another compute target (for example: AKS, Azure ML Compute Cluster, Azure Databricks, etc) then you just need to change the `compute_target` argument below. You can learn more about other compute targets [here](https://docs.microsoft.com/azure/machine-learning/how-to-set-up-training-targets). \n",
    "\n",
    "心得：這算是有必要之惡，就是用個 object 來設定東西。"
   ]
  },
  {
   "cell_type": "code",
   "execution_count": 16,
   "metadata": {
    "collapsed": false,
    "gather": {
     "logged": 1612965882781
    },
    "jupyter": {
     "outputs_hidden": false,
     "source_hidden": false
    },
    "nteract": {
     "transient": {
      "deleting": false
     }
    }
   },
   "outputs": [],
   "source": [
    "from azureml.core import ScriptRunConfig\n",
    "\n",
    "args = [\"--data-folder\", mnist_file_dataset.as_mount(), \"--regularization\", 0.5]\n",
    "\n",
    "src = ScriptRunConfig(\n",
    "    source_directory=\"src\",\n",
    "    script=\"train.py\",\n",
    "    arguments=args,\n",
    "    compute_target=\"local\",\n",
    "    environment=env,\n",
    ")"
   ]
  },
  {
   "cell_type": "markdown",
   "metadata": {
    "nteract": {
     "transient": {
      "deleting": false
     }
    }
   },
   "source": [
    "### Submit the job\n",
    "\n",
    "Run the experiment by submitting the ScriptRunConfig object. After this there are many options for monitoring your run. Once submitted, you can either navigate to the experiment \"get-started-with-jobsubmission-tutorial\" in the left menu item __Experiments__ to monitor the run (上 AutoML studio 網頁去查看), or you can monitor the run inline as the `run.wait_for_completion(show_output=True)` will stream the logs of the run. You will see that the environment is built for you to ensure reproducibility - this adds a couple of minutes to the run time. On subsequent runs, the environment is re-used making the runtime shorter.\n",
    "\n",
    "一 run 又失敗了，看不懂的 error message, 啥 conda? 咱 Desktop MinAn 有哇？：\n",
    "\n",
    "    Activity Failed:\n",
    "    {\n",
    "        \"error\": {\n",
    "            \"code\": \"UserError\",\n",
    "            \"message\": \"Unable to run conda package manager. \n",
    "                        AzureML uses conda to provision python\\nenvironments from a dependency specification. \n",
    "                        To manage the python environment\\nmanually instead, set userManagedDependencies to True \n",
    "                        in the python environment\\nconfiguration. \n",
    "                        To use system managed python environments, install conda from:\n",
    "                        https://conda.io/miniconda.html\",\n",
    "            \"messageParameters\": {},\n",
    "            \"details\": []\n",
    "        },\n",
    "        \"time\": \"2022-03-05T14:58:18.850729Z\"\n",
    "    }\n"
   ]
  },
  {
   "cell_type": "code",
   "execution_count": 17,
   "metadata": {
    "collapsed": false,
    "gather": {
     "logged": 1612965911435
    },
    "jupyter": {
     "outputs_hidden": false,
     "source_hidden": false
    },
    "nteract": {
     "transient": {
      "deleting": false
     }
    }
   },
   "outputs": [
    {
     "name": "stdout",
     "output_type": "stream",
     "text": [
      "RunId: get-started-with-jobsubmission-tutorial_1646492292_095b0179\n",
      "Web View: https://ml.azure.com/runs/get-started-with-jobsubmission-tutorial_1646492292_095b0179?wsid=/subscriptions/c27e04e6-ca10-453d-9c80-1931b65eb245/resourcegroups/my_azure_AutoML_resource_group/workspaces/my_azure_AutoML_workspace&tid=de0795e0-d7c0-4eeb-b9bb-bc94d8980d3b\n",
      "\n",
      "Streaming azureml-logs/60_control_log.txt\n",
      "=========================================\n",
      "\n",
      "[2022-03-05T14:58:16.722324] Using urllib.request Python 3.0 or later\n",
      "Streaming log file azureml-logs/60_control_log.txt\n",
      "Running: ['cmd.exe', '/c', 'C:\\\\Users\\\\hcche\\\\AppData\\\\Local\\\\Temp\\\\azureml_runs\\\\get-started-with-jobsubmission-tutorial_1646492292_095b0179\\\\azureml-environment-setup/conda_env_checker.bat']\n",
      "Starting the daemon thread to refresh tokens in background for process with pid = 3240\n",
      "Materialized conda environment not found on target: C:\\Users\\hcche/.azureml/envs/azureml_5fe324eb2cc5d6ab8afd92822e495375\n",
      "\n",
      "\n",
      "[2022-03-05T14:58:16.949852] Logging experiment preparation status in history service.\n",
      "Running: ['cmd.exe', '/c', 'C:\\\\Users\\\\hcche\\\\AppData\\\\Local\\\\Temp\\\\azureml_runs\\\\get-started-with-jobsubmission-tutorial_1646492292_095b0179\\\\azureml-environment-setup/conda_env_builder.bat']\n",
      "Running: ['conda', '--version']\n",
      "Failed to handle log line that was not ASCII!\n",
      "\n",
      "Unable to run conda package manager. AzureML uses conda to provision python\n",
      "environments from a dependency specification. To manage the python environment\n",
      "manually instead, set userManagedDependencies to True in the python environment\n",
      "configuration. To use system managed python environments, install conda from:\n",
      "https://conda.io/miniconda.html\n",
      "\n",
      "\n",
      "\n",
      "[2022-03-05T14:58:20.783407] Logging error in history service: Failed to run ['cmd.exe', '/c', 'C:\\\\Users\\\\hcche\\\\AppData\\\\Local\\\\Temp\\\\azureml_runs\\\\get-started-with-jobsubmission-tutorial_1646492292_095b0179\\\\azureml-environment-setup/conda_env_builder.bat'] \n",
      " Exit code 1 \n",
      "Details can be found in azureml-logs/60_control_log.txt log file.\n",
      "\n",
      "Uploading control log...\n",
      "\n",
      "Execution Summary\n",
      "=================\n",
      "RunId: get-started-with-jobsubmission-tutorial_1646492292_095b0179\n",
      "Web View: https://ml.azure.com/runs/get-started-with-jobsubmission-tutorial_1646492292_095b0179?wsid=/subscriptions/c27e04e6-ca10-453d-9c80-1931b65eb245/resourcegroups/my_azure_AutoML_resource_group/workspaces/my_azure_AutoML_workspace&tid=de0795e0-d7c0-4eeb-b9bb-bc94d8980d3b\n",
      "\n",
      "Warnings:\n",
      "{\n",
      "  \"error\": {\n",
      "    \"code\": \"ServiceError\",\n",
      "    \"severity\": null,\n",
      "    \"message\": \"Failed to run ['cmd.exe', '/c', 'C:\\\\\\\\Users\\\\\\\\hcche\\\\\\\\AppData\\\\\\\\Local\\\\\\\\Temp\\\\\\\\azureml_runs\\\\\\\\get-started-with-jobsubmission-tutorial_1646492292_095b0179\\\\\\\\azureml-environment-setup/conda_env_builder.bat'] \\n Exit code 1 \\nDetails can be found in azureml-logs/60_co\",\n",
      "    \"messageFormat\": null,\n",
      "    \"messageParameters\": {},\n",
      "    \"referenceCode\": null,\n",
      "    \"detailsUri\": null,\n",
      "    \"target\": null,\n",
      "    \"details\": [],\n",
      "    \"innerError\": null,\n",
      "    \"debugInfo\": null,\n",
      "    \"additionalInfo\": null\n",
      "  },\n",
      "  \"correlation\": null,\n",
      "  \"environment\": null,\n",
      "  \"location\": null,\n",
      "  \"time\": \"0001-01-01T00:00:00+00:00\",\n",
      "  \"componentName\": null\n",
      "}\n",
      "\n"
     ]
    },
    {
     "ename": "ActivityFailedException",
     "evalue": "ActivityFailedException:\n\tMessage: Activity Failed:\n{\n    \"error\": {\n        \"code\": \"UserError\",\n        \"message\": \"Unable to run conda package manager. AzureML uses conda to provision python\\nenvironments from a dependency specification. To manage the python environment\\nmanually instead, set userManagedDependencies to True in the python environment\\nconfiguration. To use system managed python environments, install conda from:\\nhttps://conda.io/miniconda.html\",\n        \"messageParameters\": {},\n        \"details\": []\n    },\n    \"time\": \"2022-03-05T14:58:18.850729Z\"\n}\n\tInnerException None\n\tErrorResponse \n{\n    \"error\": {\n        \"message\": \"Activity Failed:\\n{\\n    \\\"error\\\": {\\n        \\\"code\\\": \\\"UserError\\\",\\n        \\\"message\\\": \\\"Unable to run conda package manager. AzureML uses conda to provision python\\\\nenvironments from a dependency specification. To manage the python environment\\\\nmanually instead, set userManagedDependencies to True in the python environment\\\\nconfiguration. To use system managed python environments, install conda from:\\\\nhttps://conda.io/miniconda.html\\\",\\n        \\\"messageParameters\\\": {},\\n        \\\"details\\\": []\\n    },\\n    \\\"time\\\": \\\"2022-03-05T14:58:18.850729Z\\\"\\n}\"\n    }\n}",
     "output_type": "error",
     "traceback": [
      "\u001b[1;31m---------------------------------------------------------------------------\u001b[0m",
      "\u001b[1;31mActivityFailedException\u001b[0m                   Traceback (most recent call last)",
      "\u001b[1;32m~\\AppData\\Local\\Temp/ipykernel_1916/3655525637.py\u001b[0m in \u001b[0;36m<module>\u001b[1;34m\u001b[0m\n\u001b[0;32m      1\u001b[0m \u001b[0mrun\u001b[0m \u001b[1;33m=\u001b[0m \u001b[0mexp\u001b[0m\u001b[1;33m.\u001b[0m\u001b[0msubmit\u001b[0m\u001b[1;33m(\u001b[0m\u001b[0mconfig\u001b[0m\u001b[1;33m=\u001b[0m\u001b[0msrc\u001b[0m\u001b[1;33m)\u001b[0m\u001b[1;33m\u001b[0m\u001b[1;33m\u001b[0m\u001b[0m\n\u001b[1;32m----> 2\u001b[1;33m \u001b[0mrun\u001b[0m\u001b[1;33m.\u001b[0m\u001b[0mwait_for_completion\u001b[0m\u001b[1;33m(\u001b[0m\u001b[0mshow_output\u001b[0m\u001b[1;33m=\u001b[0m\u001b[1;32mTrue\u001b[0m\u001b[1;33m)\u001b[0m\u001b[1;33m\u001b[0m\u001b[1;33m\u001b[0m\u001b[0m\n\u001b[0m",
      "\u001b[1;32m~\\AppData\\Roaming\\Python\\Python38\\site-packages\\azureml\\core\\run.py\u001b[0m in \u001b[0;36mwait_for_completion\u001b[1;34m(self, show_output, wait_post_processing, raise_on_error)\u001b[0m\n\u001b[0;32m    839\u001b[0m         \u001b[1;32mif\u001b[0m \u001b[0mshow_output\u001b[0m\u001b[1;33m:\u001b[0m\u001b[1;33m\u001b[0m\u001b[1;33m\u001b[0m\u001b[0m\n\u001b[0;32m    840\u001b[0m             \u001b[1;32mtry\u001b[0m\u001b[1;33m:\u001b[0m\u001b[1;33m\u001b[0m\u001b[1;33m\u001b[0m\u001b[0m\n\u001b[1;32m--> 841\u001b[1;33m                 self._stream_run_output(\n\u001b[0m\u001b[0;32m    842\u001b[0m                     \u001b[0mfile_handle\u001b[0m\u001b[1;33m=\u001b[0m\u001b[0msys\u001b[0m\u001b[1;33m.\u001b[0m\u001b[0mstdout\u001b[0m\u001b[1;33m,\u001b[0m\u001b[1;33m\u001b[0m\u001b[1;33m\u001b[0m\u001b[0m\n\u001b[0;32m    843\u001b[0m                     \u001b[0mwait_post_processing\u001b[0m\u001b[1;33m=\u001b[0m\u001b[0mwait_post_processing\u001b[0m\u001b[1;33m,\u001b[0m\u001b[1;33m\u001b[0m\u001b[1;33m\u001b[0m\u001b[0m\n",
      "\u001b[1;32m~\\AppData\\Roaming\\Python\\Python38\\site-packages\\azureml\\core\\run.py\u001b[0m in \u001b[0;36m_stream_run_output\u001b[1;34m(self, file_handle, wait_post_processing, raise_on_error)\u001b[0m\n\u001b[0;32m   1084\u001b[0m                 \u001b[0mfile_handle\u001b[0m\u001b[1;33m.\u001b[0m\u001b[0mwrite\u001b[0m\u001b[1;33m(\u001b[0m\u001b[1;34m\"\\n\"\u001b[0m\u001b[1;33m)\u001b[0m\u001b[1;33m\u001b[0m\u001b[1;33m\u001b[0m\u001b[0m\n\u001b[0;32m   1085\u001b[0m             \u001b[1;32melse\u001b[0m\u001b[1;33m:\u001b[0m\u001b[1;33m\u001b[0m\u001b[1;33m\u001b[0m\u001b[0m\n\u001b[1;32m-> 1086\u001b[1;33m                 \u001b[1;32mraise\u001b[0m \u001b[0mActivityFailedException\u001b[0m\u001b[1;33m(\u001b[0m\u001b[0merror_details\u001b[0m\u001b[1;33m=\u001b[0m\u001b[0mjson\u001b[0m\u001b[1;33m.\u001b[0m\u001b[0mdumps\u001b[0m\u001b[1;33m(\u001b[0m\u001b[0merror\u001b[0m\u001b[1;33m,\u001b[0m \u001b[0mindent\u001b[0m\u001b[1;33m=\u001b[0m\u001b[1;36m4\u001b[0m\u001b[1;33m)\u001b[0m\u001b[1;33m)\u001b[0m\u001b[1;33m\u001b[0m\u001b[1;33m\u001b[0m\u001b[0m\n\u001b[0m\u001b[0;32m   1087\u001b[0m \u001b[1;33m\u001b[0m\u001b[0m\n\u001b[0;32m   1088\u001b[0m         \u001b[0mfile_handle\u001b[0m\u001b[1;33m.\u001b[0m\u001b[0mwrite\u001b[0m\u001b[1;33m(\u001b[0m\u001b[1;34m\"\\n\"\u001b[0m\u001b[1;33m)\u001b[0m\u001b[1;33m\u001b[0m\u001b[1;33m\u001b[0m\u001b[0m\n",
      "\u001b[1;31mActivityFailedException\u001b[0m: ActivityFailedException:\n\tMessage: Activity Failed:\n{\n    \"error\": {\n        \"code\": \"UserError\",\n        \"message\": \"Unable to run conda package manager. AzureML uses conda to provision python\\nenvironments from a dependency specification. To manage the python environment\\nmanually instead, set userManagedDependencies to True in the python environment\\nconfiguration. To use system managed python environments, install conda from:\\nhttps://conda.io/miniconda.html\",\n        \"messageParameters\": {},\n        \"details\": []\n    },\n    \"time\": \"2022-03-05T14:58:18.850729Z\"\n}\n\tInnerException None\n\tErrorResponse \n{\n    \"error\": {\n        \"message\": \"Activity Failed:\\n{\\n    \\\"error\\\": {\\n        \\\"code\\\": \\\"UserError\\\",\\n        \\\"message\\\": \\\"Unable to run conda package manager. AzureML uses conda to provision python\\\\nenvironments from a dependency specification. To manage the python environment\\\\nmanually instead, set userManagedDependencies to True in the python environment\\\\nconfiguration. To use system managed python environments, install conda from:\\\\nhttps://conda.io/miniconda.html\\\",\\n        \\\"messageParameters\\\": {},\\n        \\\"details\\\": []\\n    },\\n    \\\"time\\\": \\\"2022-03-05T14:58:18.850729Z\\\"\\n}\"\n    }\n}"
     ]
    }
   ],
   "source": [
    "run = exp.submit(config=src)\n",
    "run.wait_for_completion(show_output=True)"
   ]
  },
  {
   "cell_type": "markdown",
   "metadata": {
    "nteract": {
     "transient": {
      "deleting": false
     }
    }
   },
   "source": [
    "## Register model\n",
    "\n",
    "The training script used the MLflow autologging feature and therefore the model was captured and stored on your behalf. Below we register the model into the Azure Machine Learning Model registry, which lets you keep track of all the models in your Azure Machine Learning workspace.\n",
    "\n",
    "Models are identified by name and version. Each time you register a model with the same name as an existing one, the registry assumes that it's a new version. The version is incremented, and the new model is registered under the same name.\n",
    "\n",
    "When you register the model, you can provide additional metadata tags and then use the tags when you search for models."
   ]
  },
  {
   "cell_type": "code",
   "execution_count": null,
   "metadata": {
    "collapsed": false,
    "gather": {
     "logged": 1612966068862
    },
    "jupyter": {
     "outputs_hidden": false,
     "source_hidden": false
    },
    "nteract": {
     "transient": {
      "deleting": false
     }
    }
   },
   "outputs": [],
   "source": [
    "# register model\n",
    "model = run.register_model(\n",
    "    model_name=\"sklearn_mnist\", model_path=\"model/model.pkl\"\n",
    ")\n",
    "print(model.name, model.id, model.version, sep=\"\\t\")"
   ]
  },
  {
   "cell_type": "markdown",
   "metadata": {},
   "source": [
    "You will now be able to see the model in the regsitry by selecting __Models__ in the left-hand menu of the Azure Machine Learning Studio."
   ]
  },
  {
   "cell_type": "markdown",
   "metadata": {
    "nteract": {
     "transient": {
      "deleting": false
     }
    },
    "tags": []
   },
   "source": [
    "## Control Cost\n",
    "\n",
    "If you want to control cost you can stop the compute instance this notebook is running on by clicking the \"Stop compute\" button next to the status dropdown in the menu above.\n",
    "\n",
    " ## Next Steps\n",
    "\n",
    "In this quickstart, you have seen how to run jobs-based machine learning code in Azure Machine Learning. \n",
    "\n",
    "It is also possible to use automated machine learning in Azure Machine Learning service to find the best model in an automated fashion. To see how this works, we recommend that you follow the next quickstart in this series, [**Fraud Classification using Automated ML**](../quickstart-azureml-automl/quickstart-azureml-automl.ipynb). This quickstart is focused on AutoML using the Python SDK."
   ]
  },
  {
   "cell_type": "markdown",
   "metadata": {},
   "source": [
    "# The End"
   ]
  },
  {
   "cell_type": "code",
   "execution_count": 18,
   "metadata": {},
   "outputs": [
    {
     "name": "stdout",
     "output_type": "stream",
     "text": [
      "Activity Failed:\n",
      "{\n",
      "    \"error\": {\n",
      "        \"code\": \"UserError\",\n",
      "        \"message\": \"Unable to run conda package manager. AzureML uses conda to provision python\\nenvironments from a dependency specification. To manage the python environment\\nmanually instead, set userManagedDependencies to True in the python environment\\nconfiguration. To use system managed python environments, install conda from:\\nhttps://conda.io/miniconda.html\",\n",
      "        \"messageParameters\": {},\n",
      "        \"details\": []\n",
      "    },\n",
      "    \"time\": \"2022-03-05T14:58:18.850729Z\"\n",
      "}\n"
     ]
    }
   ],
   "source": [
    "s = \"Activity Failed:\\n{\\n    \\\"error\\\": {\\n        \\\"code\\\": \\\"UserError\\\",\\n        \\\"message\\\": \\\"Unable to run conda package manager. AzureML uses conda to provision python\\\\nenvironments from a dependency specification. To manage the python environment\\\\nmanually instead, set userManagedDependencies to True in the python environment\\\\nconfiguration. To use system managed python environments, install conda from:\\\\nhttps://conda.io/miniconda.html\\\",\\n        \\\"messageParameters\\\": {},\\n        \\\"details\\\": []\\n    },\\n    \\\"time\\\": \\\"2022-03-05T14:58:18.850729Z\\\"\\n}\"\n",
    "print(s)"
   ]
  },
  {
   "cell_type": "code",
   "execution_count": null,
   "metadata": {},
   "outputs": [],
   "source": []
  },
  {
   "cell_type": "code",
   "execution_count": null,
   "metadata": {},
   "outputs": [],
   "source": []
  },
  {
   "cell_type": "code",
   "execution_count": null,
   "metadata": {},
   "outputs": [],
   "source": []
  }
 ],
 "metadata": {
  "authors": [
   {
    "name": "cewidste"
   }
  ],
  "kernelspec": {
   "display_name": "Python 3 (ipykernel)",
   "language": "python",
   "name": "python3"
  },
  "language_info": {
   "codemirror_mode": {
    "name": "ipython",
    "version": 3
   },
   "file_extension": ".py",
   "mimetype": "text/x-python",
   "name": "python",
   "nbconvert_exporter": "python",
   "pygments_lexer": "ipython3",
   "version": "3.8.8"
  },
  "notice": "Copyright (c) Microsoft Corporation. All rights reserved. Licensed under the MIT License.",
  "nteract": {
   "version": "nteract-front-end@1.0.0"
  }
 },
 "nbformat": 4,
 "nbformat_minor": 4
}
